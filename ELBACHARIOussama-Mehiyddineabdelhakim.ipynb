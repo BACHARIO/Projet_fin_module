{
 "cells": [
  {
   "cell_type": "code",
   "execution_count": 1,
   "id": "1a0f54d2",
   "metadata": {},
   "outputs": [],
   "source": [
    "\n",
    "import pandas as pd\n",
    "import numpy as np\n",
    "import matplotlib.pyplot as plt\n",
    "import seaborn as sns\n",
    "\n",
    "from sklearn.model_selection import train_test_split, GridSearchCV\n",
    "from sklearn.preprocessing import LabelEncoder, StandardScaler\n",
    "from sklearn.decomposition import PCA\n",
    "from sklearn.linear_model import LogisticRegression\n",
    "from sklearn.neighbors import KNeighborsClassifier\n",
    "from sklearn.tree import DecisionTreeClassifier\n",
    "from sklearn.metrics import confusion_matrix, classification_report, roc_curve, auc\n",
    "import joblib\n"
   ]
  },
  {
   "cell_type": "code",
   "execution_count": 2,
   "id": "7a14706f",
   "metadata": {},
   "outputs": [
    {
     "data": {
      "text/html": [
       "<div>\n",
       "<style scoped>\n",
       "    .dataframe tbody tr th:only-of-type {\n",
       "        vertical-align: middle;\n",
       "    }\n",
       "\n",
       "    .dataframe tbody tr th {\n",
       "        vertical-align: top;\n",
       "    }\n",
       "\n",
       "    .dataframe thead th {\n",
       "        text-align: right;\n",
       "    }\n",
       "</style>\n",
       "<table border=\"1\" class=\"dataframe\">\n",
       "  <thead>\n",
       "    <tr style=\"text-align: right;\">\n",
       "      <th></th>\n",
       "      <th>Age</th>\n",
       "      <th>Sexe</th>\n",
       "      <th>Taux_presence</th>\n",
       "      <th>Nombre_retards</th>\n",
       "      <th>Note_moyenne</th>\n",
       "      <th>Situation_familiale</th>\n",
       "      <th>Abandon</th>\n",
       "    </tr>\n",
       "  </thead>\n",
       "  <tbody>\n",
       "    <tr>\n",
       "      <th>0</th>\n",
       "      <td>21</td>\n",
       "      <td>Femme</td>\n",
       "      <td>89.585023</td>\n",
       "      <td>2</td>\n",
       "      <td>15.826896</td>\n",
       "      <td>Enfants à charge</td>\n",
       "      <td>0</td>\n",
       "    </tr>\n",
       "    <tr>\n",
       "      <th>1</th>\n",
       "      <td>20</td>\n",
       "      <td>Homme</td>\n",
       "      <td>70.713068</td>\n",
       "      <td>3</td>\n",
       "      <td>12.829358</td>\n",
       "      <td>Célibataire</td>\n",
       "      <td>0</td>\n",
       "    </tr>\n",
       "    <tr>\n",
       "      <th>2</th>\n",
       "      <td>22</td>\n",
       "      <td>Femme</td>\n",
       "      <td>82.122963</td>\n",
       "      <td>1</td>\n",
       "      <td>13.086319</td>\n",
       "      <td>Enfants à charge</td>\n",
       "      <td>0</td>\n",
       "    </tr>\n",
       "    <tr>\n",
       "      <th>3</th>\n",
       "      <td>24</td>\n",
       "      <td>Homme</td>\n",
       "      <td>87.408859</td>\n",
       "      <td>3</td>\n",
       "      <td>14.992032</td>\n",
       "      <td>Célibataire</td>\n",
       "      <td>0</td>\n",
       "    </tr>\n",
       "    <tr>\n",
       "      <th>4</th>\n",
       "      <td>20</td>\n",
       "      <td>Homme</td>\n",
       "      <td>86.470676</td>\n",
       "      <td>3</td>\n",
       "      <td>12.671649</td>\n",
       "      <td>Marié</td>\n",
       "      <td>0</td>\n",
       "    </tr>\n",
       "  </tbody>\n",
       "</table>\n",
       "</div>"
      ],
      "text/plain": [
       "   Age   Sexe  Taux_presence  Nombre_retards  Note_moyenne  \\\n",
       "0   21  Femme      89.585023               2     15.826896   \n",
       "1   20  Homme      70.713068               3     12.829358   \n",
       "2   22  Femme      82.122963               1     13.086319   \n",
       "3   24  Homme      87.408859               3     14.992032   \n",
       "4   20  Homme      86.470676               3     12.671649   \n",
       "\n",
       "  Situation_familiale  Abandon  \n",
       "0    Enfants à charge        0  \n",
       "1         Célibataire        0  \n",
       "2    Enfants à charge        0  \n",
       "3         Célibataire        0  \n",
       "4               Marié        0  "
      ]
     },
     "execution_count": 2,
     "metadata": {},
     "output_type": "execute_result"
    }
   ],
   "source": [
    "# Chargement du dataset\n",
    "df = pd.read_csv(r\"C:\\Users\\pc\\Desktop\\ELBACHARIOussama-Mehiyddineabdelhakim)\\Data\\Dataset_Abandon_Scolaire.csv\")\n",
    "df.head()\n"
   ]
  },
  {
   "cell_type": "code",
   "execution_count": 4,
   "id": "631e12a6",
   "metadata": {},
   "outputs": [],
   "source": [
    "df_ml = df.copy()\n",
    "label_encoders = {}\n",
    "for col in ['Sexe', 'Situation_familiale']:\n",
    "    le = LabelEncoder()\n",
    "    df_ml[col] = le.fit_transform(df_ml[col])\n",
    "    label_encoders[col] = le\n",
    "\n",
    "X = df_ml.drop(\"Abandon\", axis=1)\n",
    "y = df_ml[\"Abandon\"]\n",
    "\n",
    "scaler = StandardScaler()\n",
    "X_scaled = scaler.fit_transform(X)\n"
   ]
  },
  {
   "cell_type": "code",
   "execution_count": 5,
   "id": "b931c8dc",
   "metadata": {},
   "outputs": [
    {
     "name": "stdout",
     "output_type": "stream",
     "text": [
      "Variance expliquée par PCA : [0.42962901 0.1725405 ]\n"
     ]
    }
   ],
   "source": [
    "pca = PCA(n_components=2)\n",
    "X_pca = pca.fit_transform(X_scaled)\n",
    "print(\"Variance expliquée par PCA :\", pca.explained_variance_ratio_)\n"
   ]
  },
  {
   "cell_type": "code",
   "execution_count": 6,
   "id": "3d3ceff2",
   "metadata": {},
   "outputs": [],
   "source": [
    "X_train, X_test, y_train, y_test = train_test_split(X_pca, y, test_size=0.2, random_state=42)\n"
   ]
  },
  {
   "cell_type": "code",
   "execution_count": null,
   "id": "7a4aca4f",
   "metadata": {},
   "outputs": [],
   "source": []
  },
  {
   "cell_type": "code",
   "execution_count": 7,
   "id": "380ca470",
   "metadata": {},
   "outputs": [
    {
     "name": "stdout",
     "output_type": "stream",
     "text": [
      "\n",
      "=== Logistic Regression ===\n",
      "[[367   3]\n",
      " [ 18  12]]\n",
      "              precision    recall  f1-score   support\n",
      "\n",
      "           0       0.95      0.99      0.97       370\n",
      "           1       0.80      0.40      0.53        30\n",
      "\n",
      "    accuracy                           0.95       400\n",
      "   macro avg       0.88      0.70      0.75       400\n",
      "weighted avg       0.94      0.95      0.94       400\n",
      "\n",
      "\n",
      "=== KNN ===\n",
      "[[363   7]\n",
      " [ 13  17]]\n",
      "              precision    recall  f1-score   support\n",
      "\n",
      "           0       0.97      0.98      0.97       370\n",
      "           1       0.71      0.57      0.63        30\n",
      "\n",
      "    accuracy                           0.95       400\n",
      "   macro avg       0.84      0.77      0.80       400\n",
      "weighted avg       0.95      0.95      0.95       400\n",
      "\n",
      "\n",
      "=== Decision Tree ===\n",
      "[[352  18]\n",
      " [ 14  16]]\n",
      "              precision    recall  f1-score   support\n",
      "\n",
      "           0       0.96      0.95      0.96       370\n",
      "           1       0.47      0.53      0.50        30\n",
      "\n",
      "    accuracy                           0.92       400\n",
      "   macro avg       0.72      0.74      0.73       400\n",
      "weighted avg       0.92      0.92      0.92       400\n",
      "\n"
     ]
    }
   ],
   "source": [
    "models = {\n",
    "    \"Logistic Regression\": LogisticRegression(),\n",
    "    \"KNN\": KNeighborsClassifier(),\n",
    "    \"Decision Tree\": DecisionTreeClassifier()\n",
    "}\n",
    "\n",
    "for name, model in models.items():\n",
    "    model.fit(X_train, y_train)\n",
    "    y_pred = model.predict(X_test)\n",
    "    print(f\"\\n=== {name} ===\")\n",
    "    print(confusion_matrix(y_test, y_pred))\n",
    "    print(classification_report(y_test, y_pred))\n"
   ]
  },
  {
   "cell_type": "code",
   "execution_count": 9,
   "id": "742564e6",
   "metadata": {},
   "outputs": [],
   "source": [
    "from sklearn.model_selection import GridSearchCV\n",
    "from sklearn.neighbors import KNeighborsClassifier\n",
    "\n",
    "param_grid = {\n",
    "    'n_neighbors': list(range(1, 21)),\n",
    "    'weights': ['uniform', 'distance'],\n",
    "    'metric': ['euclidean', 'manhattan']\n",
    "}\n",
    "\n",
    "grid_search = GridSearchCV(KNeighborsClassifier(), param_grid, cv=5, scoring='accuracy')\n",
    "grid_search.fit(X_train, y_train)\n",
    "\n",
    "best_model = grid_search.best_estimator_\n",
    "\n"
   ]
  },
  {
   "cell_type": "code",
   "execution_count": 10,
   "id": "b1790d4a",
   "metadata": {},
   "outputs": [
    {
     "data": {
      "text/plain": [
       "['best_model_knn.pkl']"
      ]
     },
     "execution_count": 10,
     "metadata": {},
     "output_type": "execute_result"
    }
   ],
   "source": [
    "import joblib\n",
    "\n",
    "joblib.dump(best_model, \"best_model_knn.pkl\")\n"
   ]
  },
  {
   "cell_type": "code",
   "execution_count": 11,
   "id": "930245f7",
   "metadata": {},
   "outputs": [
    {
     "data": {
      "image/png": "[encoded data removed]",
      "text/plain": [
       "<Figure size 640x480 with 1 Axes>"
      ]
     },
     "metadata": {},
     "output_type": "display_data"
    }
   ],
   "source": [
    "y_scores = best_model.predict_proba(X_test)[:, 1]\n",
    "fpr, tpr, thresholds = roc_curve(y_test, y_scores)\n",
    "roc_auc = auc(fpr, tpr)\n",
    "\n",
    "plt.figure()\n",
    "plt.plot(fpr, tpr, color='darkorange', lw=2, label=f'AUC = {roc_auc:.2f}')\n",
    "plt.plot([0, 1], [0, 1], color='navy', linestyle='--')\n",
    "plt.xlabel(\"Taux de faux positifs\")\n",
    "plt.ylabel(\"Taux de vrais positifs\")\n",
    "plt.title(\"Courbe ROC - Meilleur modèle KNN\")\n",
    "plt.legend(loc=\"lower right\")\n",
    "plt.grid()\n",
    "plt.savefig(\"roc_curve_knn.png\")\n",
    "plt.show()\n"
   ]
  },
  {
   "cell_type": "code",
   "execution_count": 14,
   "id": "bacb1db7",
   "metadata": {},
   "outputs": [],
   "source": [
    "y_pred_best = best_model.predict(X_test)\n",
    "\n"
   ]
  },
  {
   "cell_type": "code",
   "execution_count": 15,
   "id": "9e7fe412",
   "metadata": {},
   "outputs": [],
   "source": [
    "report_dict = classification_report(y_test, y_pred_best, output_dict=True)\n",
    "report_df = pd.DataFrame(report_dict).transpose()\n",
    "report_df.to_csv(\"rapport_classification_knn.csv\", index=True)\n"
   ]
  }
 ],
 "metadata": {
  "kernelspec": {
   "display_name": "base",
   "language": "python",
   "name": "python3"
  },
  "language_info": {
   "codemirror_mode": {
    "name": "ipython",
    "version": 3
   },
   "file_extension": ".py",
   "mimetype": "text/x-python",
   "name": "python",
   "nbconvert_exporter": "python",
   "pygments_lexer": "ipython3",
   "version": "3.11.7"
  }
 },
 "nbformat": 4,
 "nbformat_minor": 5
}
